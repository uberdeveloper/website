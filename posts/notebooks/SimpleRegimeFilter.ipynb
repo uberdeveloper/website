{
 "cells": [
  {
   "cell_type": "markdown",
   "id": "7e087d05-8fef-4c19-87ce-f8eba57f4cff",
   "metadata": {},
   "source": [
    "A simple filter for regimes"
   ]
  },
  {
   "cell_type": "code",
   "execution_count": 29,
   "id": "284271ac-a02b-470b-b16f-4b4a4b17c854",
   "metadata": {},
   "outputs": [],
   "source": [
    "import pandas as pd\n",
    "import numpy as np"
   ]
  },
  {
   "cell_type": "code",
   "execution_count": 39,
   "id": "4ed9a13b-be52-4eba-b841-7d307166b1e3",
   "metadata": {
    "tags": [
     "parameters"
    ]
   },
   "outputs": [],
   "source": [
    "# parameters\n",
    "ma = 120"
   ]
  },
  {
   "cell_type": "code",
   "execution_count": 40,
   "id": "ff4d2846-03e6-43de-8417-9badc0027b8a",
   "metadata": {},
   "outputs": [
    {
     "data": {
      "text/html": [
       "<div>\n",
       "<style scoped>\n",
       "    .dataframe tbody tr th:only-of-type {\n",
       "        vertical-align: middle;\n",
       "    }\n",
       "\n",
       "    .dataframe tbody tr th {\n",
       "        vertical-align: top;\n",
       "    }\n",
       "\n",
       "    .dataframe thead th {\n",
       "        text-align: right;\n",
       "    }\n",
       "</style>\n",
       "<table border=\"1\" class=\"dataframe\">\n",
       "  <thead>\n",
       "    <tr style=\"text-align: right;\">\n",
       "      <th></th>\n",
       "      <th>open</th>\n",
       "      <th>high</th>\n",
       "      <th>low</th>\n",
       "      <th>close</th>\n",
       "      <th>ret</th>\n",
       "    </tr>\n",
       "    <tr>\n",
       "      <th>date</th>\n",
       "      <th></th>\n",
       "      <th></th>\n",
       "      <th></th>\n",
       "      <th></th>\n",
       "      <th></th>\n",
       "    </tr>\n",
       "  </thead>\n",
       "  <tbody>\n",
       "    <tr>\n",
       "      <th>2021-09-30</th>\n",
       "      <td>17718.90</td>\n",
       "      <td>17742.15</td>\n",
       "      <td>17585.35</td>\n",
       "      <td>17618.15</td>\n",
       "      <td>-0.005259</td>\n",
       "    </tr>\n",
       "    <tr>\n",
       "      <th>2021-10-01</th>\n",
       "      <td>17531.90</td>\n",
       "      <td>17557.15</td>\n",
       "      <td>17452.90</td>\n",
       "      <td>17532.05</td>\n",
       "      <td>-0.004887</td>\n",
       "    </tr>\n",
       "    <tr>\n",
       "      <th>2021-10-04</th>\n",
       "      <td>17615.55</td>\n",
       "      <td>17750.90</td>\n",
       "      <td>17581.35</td>\n",
       "      <td>17691.25</td>\n",
       "      <td>0.009081</td>\n",
       "    </tr>\n",
       "    <tr>\n",
       "      <th>2021-10-05</th>\n",
       "      <td>17661.35</td>\n",
       "      <td>17833.45</td>\n",
       "      <td>17640.90</td>\n",
       "      <td>17822.30</td>\n",
       "      <td>0.007408</td>\n",
       "    </tr>\n",
       "    <tr>\n",
       "      <th>2021-10-06</th>\n",
       "      <td>17861.50</td>\n",
       "      <td>17884.60</td>\n",
       "      <td>17613.15</td>\n",
       "      <td>17646.00</td>\n",
       "      <td>-0.009892</td>\n",
       "    </tr>\n",
       "  </tbody>\n",
       "</table>\n",
       "</div>"
      ],
      "text/plain": [
       "                open      high       low     close       ret\n",
       "date                                                        \n",
       "2021-09-30  17718.90  17742.15  17585.35  17618.15 -0.005259\n",
       "2021-10-01  17531.90  17557.15  17452.90  17532.05 -0.004887\n",
       "2021-10-04  17615.55  17750.90  17581.35  17691.25  0.009081\n",
       "2021-10-05  17661.35  17833.45  17640.90  17822.30  0.007408\n",
       "2021-10-06  17861.50  17884.60  17613.15  17646.00 -0.009892"
      ]
     },
     "execution_count": 40,
     "metadata": {},
     "output_type": "execute_result"
    }
   ],
   "source": [
    "df = pd.read_csv('/home/pi/data/nifty.csv', parse_dates=['Date']).rename(\n",
    "columns = lambda x:x.lower()).sort_values(by='date').set_index('date')\n",
    "df['ret'] = df.close.pct_change()\n",
    "df.tail()"
   ]
  },
  {
   "cell_type": "raw",
   "id": "d2abe8eb-f1e0-4dd2-b788-08d3d1940fb5",
   "metadata": {},
   "source": [
    "import pandas_datareader.data as web\n",
    "df = web.DataReader('^GSPC', 'yahoo', start='1900-01-01').rename(\n",
    "    columns=lambda x:x.lower())\n",
    "\n",
    "df['ret'] = df.close.pct_change()\n",
    "df.tail()"
   ]
  },
  {
   "cell_type": "markdown",
   "id": "837c991f-2fdb-46e6-be53-0d628d6c1177",
   "metadata": {},
   "source": [
    "Let us add the following columns\n",
    "\n",
    "1. moving average for price\n",
    "2. 60 day volatility"
   ]
  },
  {
   "cell_type": "code",
   "execution_count": 64,
   "id": "42aa76b8-165d-4910-88e3-a417ff0bbe31",
   "metadata": {},
   "outputs": [],
   "source": [
    "df['ma_price'] = df.close.rolling(ma).mean()\n",
    "df['volatility'] = df.ret.rolling(ma).std()*np.sqrt(252)\n",
    "df['ma_volatility'] = df.volatility.rolling(ma).median()\n",
    "df['is_price'] = df.eval('close > ma_price')+0\n",
    "df['is_volatile'] = df.eval('volatility > ma_volatility')+0\n",
    "df['is_price'] = df.is_price.shift(1)\n",
    "#df['is_volatile'] = df.is_volatile.shift(1)"
   ]
  },
  {
   "cell_type": "code",
   "execution_count": 65,
   "id": "b59e3a27-eba4-4b1a-ba8a-3066f7bf64da",
   "metadata": {},
   "outputs": [
    {
     "data": {
      "text/html": [
       "<div>\n",
       "<style scoped>\n",
       "    .dataframe tbody tr th:only-of-type {\n",
       "        vertical-align: middle;\n",
       "    }\n",
       "\n",
       "    .dataframe tbody tr th {\n",
       "        vertical-align: top;\n",
       "    }\n",
       "\n",
       "    .dataframe thead th {\n",
       "        text-align: right;\n",
       "    }\n",
       "</style>\n",
       "<table border=\"1\" class=\"dataframe\">\n",
       "  <thead>\n",
       "    <tr style=\"text-align: right;\">\n",
       "      <th></th>\n",
       "      <th>count</th>\n",
       "      <th>mean</th>\n",
       "      <th>std</th>\n",
       "      <th>min</th>\n",
       "      <th>25%</th>\n",
       "      <th>50%</th>\n",
       "      <th>75%</th>\n",
       "      <th>max</th>\n",
       "    </tr>\n",
       "    <tr>\n",
       "      <th>is_price</th>\n",
       "      <th></th>\n",
       "      <th></th>\n",
       "      <th></th>\n",
       "      <th></th>\n",
       "      <th></th>\n",
       "      <th></th>\n",
       "      <th></th>\n",
       "      <th></th>\n",
       "    </tr>\n",
       "  </thead>\n",
       "  <tbody>\n",
       "    <tr>\n",
       "      <th>0.0</th>\n",
       "      <td>1985.0</td>\n",
       "      <td>0.000069</td>\n",
       "      <td>0.018326</td>\n",
       "      <td>-0.129805</td>\n",
       "      <td>-0.008919</td>\n",
       "      <td>0.000833</td>\n",
       "      <td>0.009478</td>\n",
       "      <td>0.087632</td>\n",
       "    </tr>\n",
       "    <tr>\n",
       "      <th>1.0</th>\n",
       "      <td>3428.0</td>\n",
       "      <td>0.000826</td>\n",
       "      <td>0.011536</td>\n",
       "      <td>-0.087024</td>\n",
       "      <td>-0.004927</td>\n",
       "      <td>0.000988</td>\n",
       "      <td>0.006949</td>\n",
       "      <td>0.177441</td>\n",
       "    </tr>\n",
       "  </tbody>\n",
       "</table>\n",
       "</div>"
      ],
      "text/plain": [
       "           count      mean       std       min       25%       50%       75%  \\\n",
       "is_price                                                                       \n",
       "0.0       1985.0  0.000069  0.018326 -0.129805 -0.008919  0.000833  0.009478   \n",
       "1.0       3428.0  0.000826  0.011536 -0.087024 -0.004927  0.000988  0.006949   \n",
       "\n",
       "               max  \n",
       "is_price            \n",
       "0.0       0.087632  \n",
       "1.0       0.177441  "
      ]
     },
     "execution_count": 65,
     "metadata": {},
     "output_type": "execute_result"
    }
   ],
   "source": [
    "df.groupby(['is_price']).ret.describe()"
   ]
  },
  {
   "cell_type": "code",
   "execution_count": 43,
   "id": "a2c3de28-e644-44b4-a23d-ab92cdb58da6",
   "metadata": {},
   "outputs": [],
   "source": [
    "df['year'] = df.index.year\n",
    "df['month'] = df.index.month\n",
    "from fastbt.utils import streak\n",
    "df['streak'] = streak(df.is_price.values)"
   ]
  },
  {
   "cell_type": "code",
   "execution_count": 44,
   "id": "939d80e8-7aa6-45c3-873d-62b881d8a92b",
   "metadata": {},
   "outputs": [
    {
     "data": {
      "text/plain": [
       "(5414, 13)"
      ]
     },
     "execution_count": 44,
     "metadata": {},
     "output_type": "execute_result"
    }
   ],
   "source": [
    "df.shape"
   ]
  },
  {
   "cell_type": "code",
   "execution_count": 45,
   "id": "497376c7-629b-49bd-bac8-45e8fffc2a53",
   "metadata": {},
   "outputs": [
    {
     "data": {
      "text/plain": [
       "streak\n",
       "1.0       NaN\n",
       "2.0      49.0\n",
       "3.0      13.0\n",
       "4.0      14.0\n",
       "5.0      13.0\n",
       "         ... \n",
       "280.0     0.0\n",
       "281.0     0.0\n",
       "282.0     0.0\n",
       "283.0     0.0\n",
       "284.0     0.0\n",
       "Length: 284, dtype: float64"
      ]
     },
     "execution_count": 45,
     "metadata": {},
     "output_type": "execute_result"
    }
   ],
   "source": [
    "strk = df.groupby('streak').size()\n",
    "strk.diff().abs()"
   ]
  },
  {
   "cell_type": "code",
   "execution_count": 46,
   "id": "353f98b5-ac83-45f5-9551-45858b404031",
   "metadata": {},
   "outputs": [
    {
     "data": {
      "text/plain": [
       "<AxesSubplot:xlabel='date'>"
      ]
     },
     "execution_count": 46,
     "metadata": {},
     "output_type": "execute_result"
    },
    {
     "data": {
      "image/png": "[encoded data removed]",
      "text/plain": [
       "<Figure size 432x288 with 1 Axes>"
      ]
     },
     "metadata": {
      "needs_background": "light"
     },
     "output_type": "display_data"
    }
   ],
   "source": [
    "df.loc['2000':].is_price.plot()"
   ]
  },
  {
   "cell_type": "code",
   "execution_count": 47,
   "id": "3b4de4cf-e2cc-415c-b3e3-4b878d1ee162",
   "metadata": {},
   "outputs": [],
   "source": [
    "market_map = {\n",
    "    (0,0): 'bear-low',\n",
    "    (0,1): 'bear-high',\n",
    "    (1,0): 'bull-low',\n",
    "    (1,1): 'bull-high'\n",
    "}\n",
    "env_map = {\n",
    "    'bear-low': 0,\n",
    "    'bear-high': -1,\n",
    "    'bull-low': 1,\n",
    "    'bull-high': 2\n",
    "}\n",
    "df['mm'] = [market_map.get((x,y)) for x,y in zip(df.is_price, df.is_volatile)]\n",
    "df['em'] = df.mm.map(env_map)"
   ]
  }
 ],
 "metadata": {
  "kernelspec": {
   "display_name": "Python 3 (ipykernel)",
   "language": "python",
   "name": "python3"
  },
  "language_info": {
   "codemirror_mode": {
    "name": "ipython",
    "version": 3
   },
   "file_extension": ".py",
   "mimetype": "text/x-python",
   "name": "python",
   "nbconvert_exporter": "python",
   "pygments_lexer": "ipython3",
   "version": "3.9.2"
  },
  "nikola": {
   "category": "regime-change",
   "date": "2021-11-25 08:50:05 UTC",
   "slug": "simple-regime-filter",
   "status": "draft",
   "tags": "filters,regime-change",
   "title": "A simple regime filter"
  }
 },
 "nbformat": 4,
 "nbformat_minor": 5
}
