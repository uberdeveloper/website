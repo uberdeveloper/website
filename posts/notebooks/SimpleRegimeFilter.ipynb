{
 "cells": [
  {
   "cell_type": "markdown",
   "id": "7e087d05-8fef-4c19-87ce-f8eba57f4cff",
   "metadata": {},
   "source": [
    "# Regime filters\n",
    "\n",
    "A regime filter is a classification to indicate the market condition we are in. They could provide some useful pointers to improve trading results. Though we cannot predict the market movements with certainty, we can atleast get an edge.\n",
    "\n",
    "We should keep these filters simple so that it is easy to understand and do not overfit too much to available data. Boolean filters are a good choice since they only have a true or false value and not prone to too much overfitting, though they may only have a slight edge."
   ]
  },
  {
   "cell_type": "markdown",
   "id": "f87a5d74-bb4b-4143-9b66-4edb5fe340f7",
   "metadata": {},
   "source": [
    "## A simple price filter\n",
    "\n",
    "Let us a simple price filter.\n",
    "\n",
    "1. Create a moving average of the price for the last 60 days.\n",
    "2. If the close price is greater than the average price, give it a value of 1.\n",
    "3. If the close price is less than the average price, give it a value of 0\n",
    "    \n",
    "We shift the average price by 1 day so that we do not include today's close price \n",
    "\n",
    "<!-- TEASER_END -->"
   ]
  },
  {
   "cell_type": "code",
   "execution_count": 109,
   "id": "284271ac-a02b-470b-b16f-4b4a4b17c854",
   "metadata": {},
   "outputs": [],
   "source": [
    "import pandas as pd\n",
    "import seaborn as sns\n",
    "sns.set()"
   ]
  },
  {
   "cell_type": "code",
   "execution_count": 110,
   "id": "4ed9a13b-be52-4eba-b841-7d307166b1e3",
   "metadata": {
    "tags": [
     "parameters"
    ]
   },
   "outputs": [],
   "source": [
    "# parameters\n",
    "ma = 60"
   ]
  },
  {
   "cell_type": "code",
   "execution_count": 111,
   "id": "ff4d2846-03e6-43de-8417-9badc0027b8a",
   "metadata": {},
   "outputs": [
    {
     "data": {
      "text/html": [
       "<div>\n",
       "<style scoped>\n",
       "    .dataframe tbody tr th:only-of-type {\n",
       "        vertical-align: middle;\n",
       "    }\n",
       "\n",
       "    .dataframe tbody tr th {\n",
       "        vertical-align: top;\n",
       "    }\n",
       "\n",
       "    .dataframe thead th {\n",
       "        text-align: right;\n",
       "    }\n",
       "</style>\n",
       "<table border=\"1\" class=\"dataframe\">\n",
       "  <thead>\n",
       "    <tr style=\"text-align: right;\">\n",
       "      <th></th>\n",
       "      <th>open</th>\n",
       "      <th>high</th>\n",
       "      <th>low</th>\n",
       "      <th>close</th>\n",
       "      <th>volume</th>\n",
       "      <th>adj close</th>\n",
       "      <th>ret</th>\n",
       "    </tr>\n",
       "    <tr>\n",
       "      <th>date</th>\n",
       "      <th></th>\n",
       "      <th></th>\n",
       "      <th></th>\n",
       "      <th></th>\n",
       "      <th></th>\n",
       "      <th></th>\n",
       "      <th></th>\n",
       "    </tr>\n",
       "  </thead>\n",
       "  <tbody>\n",
       "    <tr>\n",
       "      <th>2021-11-24</th>\n",
       "      <td>4675.779785</td>\n",
       "      <td>4702.870117</td>\n",
       "      <td>4659.890137</td>\n",
       "      <td>4701.459961</td>\n",
       "      <td>2464040000</td>\n",
       "      <td>4701.459961</td>\n",
       "      <td>0.002294</td>\n",
       "    </tr>\n",
       "    <tr>\n",
       "      <th>2021-11-26</th>\n",
       "      <td>4664.629883</td>\n",
       "      <td>4664.629883</td>\n",
       "      <td>4585.430176</td>\n",
       "      <td>4594.620117</td>\n",
       "      <td>2676740000</td>\n",
       "      <td>4594.620117</td>\n",
       "      <td>-0.022725</td>\n",
       "    </tr>\n",
       "    <tr>\n",
       "      <th>2021-11-29</th>\n",
       "      <td>4628.750000</td>\n",
       "      <td>4672.950195</td>\n",
       "      <td>4625.259766</td>\n",
       "      <td>4655.270020</td>\n",
       "      <td>3471380000</td>\n",
       "      <td>4655.270020</td>\n",
       "      <td>0.013200</td>\n",
       "    </tr>\n",
       "    <tr>\n",
       "      <th>2021-11-30</th>\n",
       "      <td>4640.250000</td>\n",
       "      <td>4646.020020</td>\n",
       "      <td>4560.000000</td>\n",
       "      <td>4567.000000</td>\n",
       "      <td>4950190000</td>\n",
       "      <td>4567.000000</td>\n",
       "      <td>-0.018961</td>\n",
       "    </tr>\n",
       "    <tr>\n",
       "      <th>2021-12-01</th>\n",
       "      <td>4602.819824</td>\n",
       "      <td>4652.939941</td>\n",
       "      <td>4510.270020</td>\n",
       "      <td>4513.040039</td>\n",
       "      <td>4078260000</td>\n",
       "      <td>4513.040039</td>\n",
       "      <td>-0.011815</td>\n",
       "    </tr>\n",
       "  </tbody>\n",
       "</table>\n",
       "</div>"
      ],
      "text/plain": [
       "                   open         high          low        close      volume  \\\n",
       "date                                                                         \n",
       "2021-11-24  4675.779785  4702.870117  4659.890137  4701.459961  2464040000   \n",
       "2021-11-26  4664.629883  4664.629883  4585.430176  4594.620117  2676740000   \n",
       "2021-11-29  4628.750000  4672.950195  4625.259766  4655.270020  3471380000   \n",
       "2021-11-30  4640.250000  4646.020020  4560.000000  4567.000000  4950190000   \n",
       "2021-12-01  4602.819824  4652.939941  4510.270020  4513.040039  4078260000   \n",
       "\n",
       "              adj close       ret  \n",
       "date                               \n",
       "2021-11-24  4701.459961  0.002294  \n",
       "2021-11-26  4594.620117 -0.022725  \n",
       "2021-11-29  4655.270020  0.013200  \n",
       "2021-11-30  4567.000000 -0.018961  \n",
       "2021-12-01  4513.040039 -0.011815  "
      ]
     },
     "execution_count": 111,
     "metadata": {},
     "output_type": "execute_result"
    }
   ],
   "source": [
    "df = pd.read_csv('/home/pi/data/sp500.csv', parse_dates=['Date']).rename(\n",
    "columns = lambda x:x.lower()).sort_values(by='date').set_index('date')\n",
    "df['ret'] = df.close.pct_change()\n",
    "df.tail()"
   ]
  },
  {
   "cell_type": "code",
   "execution_count": 112,
   "id": "42aa76b8-165d-4910-88e3-a417ff0bbe31",
   "metadata": {},
   "outputs": [],
   "source": [
    "df['ma_price'] = df.close.rolling(ma).mean().shift(1)\n",
    "df['is_price'] = df.eval('close > ma_price')+0"
   ]
  },
  {
   "cell_type": "code",
   "execution_count": 113,
   "id": "b59e3a27-eba4-4b1a-ba8a-3066f7bf64da",
   "metadata": {},
   "outputs": [
    {
     "data": {
      "text/html": [
       "<div>\n",
       "<style scoped>\n",
       "    .dataframe tbody tr th:only-of-type {\n",
       "        vertical-align: middle;\n",
       "    }\n",
       "\n",
       "    .dataframe tbody tr th {\n",
       "        vertical-align: top;\n",
       "    }\n",
       "\n",
       "    .dataframe thead th {\n",
       "        text-align: right;\n",
       "    }\n",
       "</style>\n",
       "<table border=\"1\" class=\"dataframe\">\n",
       "  <thead>\n",
       "    <tr style=\"text-align: right;\">\n",
       "      <th></th>\n",
       "      <th>count</th>\n",
       "      <th>mean</th>\n",
       "      <th>std</th>\n",
       "      <th>min</th>\n",
       "      <th>25%</th>\n",
       "      <th>50%</th>\n",
       "      <th>75%</th>\n",
       "      <th>max</th>\n",
       "    </tr>\n",
       "    <tr>\n",
       "      <th>is_price</th>\n",
       "      <th></th>\n",
       "      <th></th>\n",
       "      <th></th>\n",
       "      <th></th>\n",
       "      <th></th>\n",
       "      <th></th>\n",
       "      <th></th>\n",
       "      <th></th>\n",
       "    </tr>\n",
       "  </thead>\n",
       "  <tbody>\n",
       "    <tr>\n",
       "      <th>0</th>\n",
       "      <td>1889.0</td>\n",
       "      <td>-0.001884</td>\n",
       "      <td>0.01769</td>\n",
       "      <td>-0.119841</td>\n",
       "      <td>-0.011085</td>\n",
       "      <td>-0.001477</td>\n",
       "      <td>0.006545</td>\n",
       "      <td>0.115800</td>\n",
       "    </tr>\n",
       "    <tr>\n",
       "      <th>1</th>\n",
       "      <td>3626.0</td>\n",
       "      <td>0.001408</td>\n",
       "      <td>0.00814</td>\n",
       "      <td>-0.058944</td>\n",
       "      <td>-0.002722</td>\n",
       "      <td>0.001164</td>\n",
       "      <td>0.005583</td>\n",
       "      <td>0.070758</td>\n",
       "    </tr>\n",
       "  </tbody>\n",
       "</table>\n",
       "</div>"
      ],
      "text/plain": [
       "           count      mean      std       min       25%       50%       75%  \\\n",
       "is_price                                                                      \n",
       "0         1889.0 -0.001884  0.01769 -0.119841 -0.011085 -0.001477  0.006545   \n",
       "1         3626.0  0.001408  0.00814 -0.058944 -0.002722  0.001164  0.005583   \n",
       "\n",
       "               max  \n",
       "is_price            \n",
       "0         0.115800  \n",
       "1         0.070758  "
      ]
     },
     "execution_count": 113,
     "metadata": {},
     "output_type": "execute_result"
    }
   ],
   "source": [
    "df.groupby(['is_price']).ret.describe()"
   ]
  },
  {
   "cell_type": "code",
   "execution_count": 114,
   "id": "d75489d6-8da2-4ad5-b3fe-dcacd65c411b",
   "metadata": {},
   "outputs": [
    {
     "data": {
      "text/plain": [
       "<seaborn.axisgrid.FacetGrid at 0x7f44af21f0>"
      ]
     },
     "execution_count": 114,
     "metadata": {},
     "output_type": "execute_result"
    },
    {
     "data": {
      "image/png": "[encoded data removed]",
      "text/plain": [
       "<Figure size 410.05x360 with 1 Axes>"
      ]
     },
     "metadata": {},
     "output_type": "display_data"
    }
   ],
   "source": [
    "sns.displot(data=df, x='ret', hue='is_price', kind='kde')"
   ]
  },
  {
   "cell_type": "markdown",
   "id": "4d1b5f6b-0ed8-48b5-8865-d46310d7fbe1",
   "metadata": {},
   "source": [
    "Looks there seem to be an edge. If the price is less than the moving average, the average returns are negative while if it is greater than the moving average, it is positive. So, a good time to take a long position would be when the price is more than the moving average.\n",
    "\n",
    "<div class=\"alert alert-info\">\n",
    "    We are only taking the daily returns here. Extending this to multiple days may be more practical as a strategy\n",
    "</div>\n",
    "   \n",
    "TODO\n",
    "------\n",
    " - [ ] Calculate for different moving averages\n",
    " - [ ] See if there is some predictive power for intraday\n"
   ]
  }
 ],
 "metadata": {
  "kernelspec": {
   "display_name": "Python 3 (ipykernel)",
   "language": "python",
   "name": "python3"
  },
  "language_info": {
   "codemirror_mode": {
    "name": "ipython",
    "version": 3
   },
   "file_extension": ".py",
   "mimetype": "text/x-python",
   "name": "python",
   "nbconvert_exporter": "python",
   "pygments_lexer": "ipython3",
   "version": "3.9.2"
  },
  "nikola": {
   "category": "regime-change",
   "date": "2021-11-25 08:50:05 UTC",
   "slug": "simple-regime-filter",
   "tags": "filters,regimes",
   "title": "A simple regime filter"
  }
 },
 "nbformat": 4,
 "nbformat_minor": 5
}
