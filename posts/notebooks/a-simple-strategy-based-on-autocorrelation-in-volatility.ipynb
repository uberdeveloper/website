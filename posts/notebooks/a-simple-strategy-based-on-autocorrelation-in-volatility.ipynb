{
 "cells": [
  {
   "cell_type": "markdown",
   "id": "f9a03aeb",
   "metadata": {},
   "source": [
    "## Introduction\n",
    "\n",
    "We saw some monthly auto-correlation in volatility [here](/posts/autocorrelation-volatility). Let us try to create a strategy out of it and see if it holds an edge. Our strategy is to hold the stock when the volatility is low.\n",
    "\n",
    "## Strategy\n",
    "\n",
    "1. Calculate the monthly volatility of the stock\n",
    "2. Calculate the 12-period rolling monthly volatility\n",
    "3. If the present month volatility is less than the rolling volatilty, hold the stock\n",
    "\n",
    "Volatility is simply the standard deviation of the daily returns\n",
    "\n",
    "<!-- TEASER_END -->\n"
   ]
  },
  {
   "cell_type": "code",
   "execution_count": 1,
   "id": "b96352c9-c673-4527-90a0-830809902fd4",
   "metadata": {},
   "outputs": [],
   "source": [
    "import pandas as pd\n",
    "import numpy as np\n",
    "import seaborn as sns\n",
    "import matplotlib.pyplot as plt\n",
    "sns.set()\n"
   ]
  },
  {
   "cell_type": "code",
   "execution_count": 2,
   "id": "d2bba534-d0f7-4a74-9ebf-8d216c9e6b58",
   "metadata": {},
   "outputs": [],
   "source": [
    "df = pd.read_csv('/home/pi/data/sp500.csv', parse_dates=['Date']).rename(\n",
    "columns = lambda x:x.lower()).sort_values(by='date').set_index('date')\n",
    "df['ret'] = df.close.pct_change()"
   ]
  },
  {
   "cell_type": "markdown",
   "id": "72a61f3f-740b-42f9-a9ef-ce3d0fa12aa1",
   "metadata": {},
   "source": [
    "The following two functions \n",
    " * generate the returns and then \n",
    " * plots the cumulative returns based on each signal\n",
    " \n",
    "signal 1 means that last month volatility is more than the moving average of the 12 month volatility while signal 0 indicates the volatility is less than the average. All denotes holding the stock all the period. So,\n",
    " * 1 denotes more volatility\n",
    " * 0 denotes less volatility"
   ]
  },
  {
   "cell_type": "code",
   "execution_count": 3,
   "id": "c19293d9-d964-4906-a958-90bc81b6d1a1",
   "metadata": {},
   "outputs": [],
   "source": [
    "def generate_returns_table(data, freq='M'):\n",
    "    \"\"\"\n",
    "    Generate the returns dataframe\n",
    "    data\n",
    "        Daily data\n",
    "    freq\n",
    "        frequency as pandas string\n",
    "    \"\"\"\n",
    "    monthly_returns = data.resample(freq).close.ohlc().close.pct_change()\n",
    "    monthly_volatility = data.resample(freq).ret.std()\n",
    "    df2 = pd.DataFrame({\n",
    "        'returns': monthly_returns,\n",
    "        'volatility': monthly_volatility\n",
    "    }).dropna()\n",
    "    df2['rolling_vol'] = df2.volatility.rolling(12).median()\n",
    "    df2['signal'] = df2.eval('(volatility>rolling_vol)+0').shift(1)\n",
    "    return df2\n",
    "\n",
    "def plot_strategy(data, column='signal'):\n",
    "    \"\"\"\n",
    "    Plot the returns based on signal\n",
    "    data\n",
    "        dataframe with returns\n",
    "    column\n",
    "        column containing the signal\n",
    "    \"\"\"\n",
    "    collect = []\n",
    "    d = data.copy()\n",
    "    d['name'] = 'all'\n",
    "    d['cum_returns'] = d.eval('1+returns').cumprod()    \n",
    "    collect.append(d)\n",
    "    grouped = d.groupby(column)\n",
    "    for name, group in grouped:\n",
    "        group['name'] = name\n",
    "        group['cum_returns'] = group.eval('1+returns').cumprod()\n",
    "        collect.append(group)\n",
    "    tmp = pd.concat(collect).reset_index()\n",
    "    return sns.lineplot(x='date', y='cum_returns', hue='name', data=tmp)"
   ]
  },
  {
   "cell_type": "code",
   "execution_count": 4,
   "id": "9bb4ca82-868f-4dee-bc04-44a98f5744e6",
   "metadata": {},
   "outputs": [
    {
     "data": {
      "text/html": [
       "<div>\n",
       "<style scoped>\n",
       "    .dataframe tbody tr th:only-of-type {\n",
       "        vertical-align: middle;\n",
       "    }\n",
       "\n",
       "    .dataframe tbody tr th {\n",
       "        vertical-align: top;\n",
       "    }\n",
       "\n",
       "    .dataframe thead th {\n",
       "        text-align: right;\n",
       "    }\n",
       "</style>\n",
       "<table border=\"1\" class=\"dataframe\">\n",
       "  <thead>\n",
       "    <tr style=\"text-align: right;\">\n",
       "      <th></th>\n",
       "      <th>count</th>\n",
       "      <th>mean</th>\n",
       "      <th>std</th>\n",
       "      <th>min</th>\n",
       "      <th>25%</th>\n",
       "      <th>50%</th>\n",
       "      <th>75%</th>\n",
       "      <th>max</th>\n",
       "    </tr>\n",
       "    <tr>\n",
       "      <th>signal</th>\n",
       "      <th></th>\n",
       "      <th></th>\n",
       "      <th></th>\n",
       "      <th></th>\n",
       "      <th></th>\n",
       "      <th></th>\n",
       "      <th></th>\n",
       "      <th></th>\n",
       "    </tr>\n",
       "  </thead>\n",
       "  <tbody>\n",
       "    <tr>\n",
       "      <th>0.0</th>\n",
       "      <td>148.0</td>\n",
       "      <td>0.007405</td>\n",
       "      <td>0.035204</td>\n",
       "      <td>-0.085962</td>\n",
       "      <td>-0.015188</td>\n",
       "      <td>0.011449</td>\n",
       "      <td>0.028690</td>\n",
       "      <td>0.107546</td>\n",
       "    </tr>\n",
       "    <tr>\n",
       "      <th>1.0</th>\n",
       "      <td>114.0</td>\n",
       "      <td>0.002998</td>\n",
       "      <td>0.052159</td>\n",
       "      <td>-0.169425</td>\n",
       "      <td>-0.025201</td>\n",
       "      <td>0.009228</td>\n",
       "      <td>0.035504</td>\n",
       "      <td>0.126844</td>\n",
       "    </tr>\n",
       "  </tbody>\n",
       "</table>\n",
       "</div>"
      ],
      "text/plain": [
       "        count      mean       std       min       25%       50%       75%  \\\n",
       "signal                                                                      \n",
       "0.0     148.0  0.007405  0.035204 -0.085962 -0.015188  0.011449  0.028690   \n",
       "1.0     114.0  0.002998  0.052159 -0.169425 -0.025201  0.009228  0.035504   \n",
       "\n",
       "             max  \n",
       "signal            \n",
       "0.0     0.107546  \n",
       "1.0     0.126844  "
      ]
     },
     "execution_count": 4,
     "metadata": {},
     "output_type": "execute_result"
    },
    {
     "data": {
      "image/png": "[encoded data removed]",
      "text/plain": [
       "<Figure size 432x288 with 1 Axes>"
      ]
     },
     "metadata": {},
     "output_type": "display_data"
    }
   ],
   "source": [
    "strategy = generate_returns_table(df)\n",
    "plot_strategy(strategy)\n",
    "strategy.groupby('signal').returns.describe()"
   ]
  },
  {
   "cell_type": "markdown",
   "id": "22f896f4-e7d1-4dd9-939f-6403d6c78127",
   "metadata": {},
   "source": [
    "There seems to be an edge here. A signal of 0, lower volatility, generates better returns at a lesser risk. But the optimal thing to do, by looking at the cumulative returns chart, is to stay invested all the time as it gives the maximum total returns. \n",
    "\n",
    "Let us try doing this on a quarterly basis. Instead of calculating the monthly volatility, calculate the quarterly volatility and apply the same algorithm"
   ]
  },
  {
   "cell_type": "code",
   "execution_count": 5,
   "id": "2e25f5bd-6cd7-46f3-9a25-bffa0181e35e",
   "metadata": {},
   "outputs": [
    {
     "data": {
      "text/html": [
       "<div>\n",
       "<style scoped>\n",
       "    .dataframe tbody tr th:only-of-type {\n",
       "        vertical-align: middle;\n",
       "    }\n",
       "\n",
       "    .dataframe tbody tr th {\n",
       "        vertical-align: top;\n",
       "    }\n",
       "\n",
       "    .dataframe thead th {\n",
       "        text-align: right;\n",
       "    }\n",
       "</style>\n",
       "<table border=\"1\" class=\"dataframe\">\n",
       "  <thead>\n",
       "    <tr style=\"text-align: right;\">\n",
       "      <th></th>\n",
       "      <th>count</th>\n",
       "      <th>mean</th>\n",
       "      <th>std</th>\n",
       "      <th>min</th>\n",
       "      <th>25%</th>\n",
       "      <th>50%</th>\n",
       "      <th>75%</th>\n",
       "      <th>max</th>\n",
       "    </tr>\n",
       "    <tr>\n",
       "      <th>signal</th>\n",
       "      <th></th>\n",
       "      <th></th>\n",
       "      <th></th>\n",
       "      <th></th>\n",
       "      <th></th>\n",
       "      <th></th>\n",
       "      <th></th>\n",
       "      <th></th>\n",
       "    </tr>\n",
       "  </thead>\n",
       "  <tbody>\n",
       "    <tr>\n",
       "      <th>0.0</th>\n",
       "      <td>53.0</td>\n",
       "      <td>0.001043</td>\n",
       "      <td>0.076472</td>\n",
       "      <td>-0.200011</td>\n",
       "      <td>-0.023018</td>\n",
       "      <td>0.012990</td>\n",
       "      <td>0.054221</td>\n",
       "      <td>0.116419</td>\n",
       "    </tr>\n",
       "    <tr>\n",
       "      <th>1.0</th>\n",
       "      <td>34.0</td>\n",
       "      <td>0.039976</td>\n",
       "      <td>0.087841</td>\n",
       "      <td>-0.225582</td>\n",
       "      <td>0.005207</td>\n",
       "      <td>0.049272</td>\n",
       "      <td>0.101734</td>\n",
       "      <td>0.199529</td>\n",
       "    </tr>\n",
       "  </tbody>\n",
       "</table>\n",
       "</div>"
      ],
      "text/plain": [
       "        count      mean       std       min       25%       50%       75%  \\\n",
       "signal                                                                      \n",
       "0.0      53.0  0.001043  0.076472 -0.200011 -0.023018  0.012990  0.054221   \n",
       "1.0      34.0  0.039976  0.087841 -0.225582  0.005207  0.049272  0.101734   \n",
       "\n",
       "             max  \n",
       "signal            \n",
       "0.0     0.116419  \n",
       "1.0     0.199529  "
      ]
     },
     "execution_count": 5,
     "metadata": {},
     "output_type": "execute_result"
    },
    {
     "data": {
      "image/png": "[encoded data removed]",
      "text/plain": [
       "<Figure size 432x288 with 1 Axes>"
      ]
     },
     "metadata": {},
     "output_type": "display_data"
    }
   ],
   "source": [
    "strategy = generate_returns_table(df, freq='Q')\n",
    "plot_strategy(strategy)\n",
    "strategy.groupby('signal').returns.describe()"
   ]
  },
  {
   "cell_type": "markdown",
   "id": "12e9cbe7-93ab-4ca0-8d7d-b9913e75bec4",
   "metadata": {},
   "source": [
    "From the cumulative returns chart, it looks that investing when the signal is 1, during higher volatility, looks better than staying invested all the time. This is in contrast with what is observed when we used monthly frequency, which needs to be investigated further.\n",
    "\n",
    "You can try different frequencies and different instruments by cloning this notebook\n",
    "\n",
    "<div class=\"alert alert-info\">\n",
    "    Transaction costs and slippage not included. Also the result doesn't resemble an exact portfolio.\n",
    "    </div>\n",
    "\n",
    "<div class=\"alert alert-warning\">\n",
    "    I have not tested for statistical significance for these results, which is important.\n",
    "    These are only raw results\n",
    "    </div>"
   ]
  }
 ],
 "metadata": {
  "kernelspec": {
   "display_name": "Python 3 (ipykernel)",
   "language": "python",
   "name": "python3"
  },
  "language_info": {
   "codemirror_mode": {
    "name": "ipython",
    "version": 3
   },
   "file_extension": ".py",
   "mimetype": "text/x-python",
   "name": "python",
   "nbconvert_exporter": "python",
   "pygments_lexer": "ipython3",
   "version": "3.9.2"
  },
  "nikola": {
   "category": "volatility",
   "date": "2021-12-06 09:21:50 UTC",
   "description": "",
   "link": "",
   "slug": "a-simple-strategy-based-on-autocorrelation-in-volatility",
   "tags": "volatility,strategy,correlation",
   "title": "A simple strategy based on autocorrelation in volatility",
   "type": "text"
  }
 },
 "nbformat": 4,
 "nbformat_minor": 5
}
