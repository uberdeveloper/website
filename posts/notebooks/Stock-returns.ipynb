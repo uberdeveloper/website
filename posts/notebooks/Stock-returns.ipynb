{
 "cells": [
  {
   "cell_type": "markdown",
   "id": "2b3027a4-4a12-475f-860c-93fa86df57e1",
   "metadata": {},
   "source": [
    "### Stock returns how do they behave\n",
    "\n",
    "Actually how does stock returns behave"
   ]
  },
  {
   "cell_type": "code",
   "execution_count": 68,
   "id": "b5fc4a71-114e-4698-be85-ec65d95e1272",
   "metadata": {},
   "outputs": [],
   "source": [
    "import pandas_datareader.data as web\n",
    "import pandas as pd\n"
   ]
  },
  {
   "cell_type": "code",
   "execution_count": 104,
   "id": "b92c31ef-1ffb-4a79-8b80-cb9fb62026e3",
   "metadata": {},
   "outputs": [],
   "source": [
    "df = web.DataReader('AAPL', 'yahoo', start='2012-01-01')"
   ]
  },
  {
   "cell_type": "code",
   "execution_count": 105,
   "id": "3090c5ad-a8a1-40c8-9d51-70b3aaa2f96c",
   "metadata": {},
   "outputs": [
    {
     "data": {
      "text/plain": [
       "<AxesSubplot:xlabel='Date'>"
      ]
     },
     "execution_count": 105,
     "metadata": {},
     "output_type": "execute_result"
    },
    {
     "data": {
      "image/png": "[encoded data removed]",
      "text/plain": [
       "<Figure size 432x288 with 1 Axes>"
      ]
     },
     "metadata": {
      "needs_background": "light"
     },
     "output_type": "display_data"
    }
   ],
   "source": [
    "df['high'] = df['Adj Close'].expanding().max()\n",
    "df['chg'] = df['Adj Close'].pct_change()\n",
    "df['dd'] = -(df['high'] - df['Adj Close'])/df['high']\n",
    "df.dropna(inplace=True)\n",
    "df['Adj Close'].plot()"
   ]
  },
  {
   "cell_type": "code",
   "execution_count": 113,
   "id": "f26f65f0-dc24-481b-9615-7bc59e04fed7",
   "metadata": {},
   "outputs": [
    {
     "data": {
      "text/plain": [
       "array([ 12.54202232,  13.18834261,  13.13651861, ..., 147.96476327,\n",
       "       147.61973597, 148.97184396])"
      ]
     },
     "execution_count": 113,
     "metadata": {},
     "output_type": "execute_result"
    }
   ],
   "source": [
    "(1+a).cumprod()*12.59"
   ]
  },
  {
   "cell_type": "code",
   "execution_count": 112,
   "id": "cea52b01-76a1-4f96-8d5d-38c6607613d6",
   "metadata": {},
   "outputs": [
    {
     "data": {
      "text/html": [
       "<div>\n",
       "<style scoped>\n",
       "    .dataframe tbody tr th:only-of-type {\n",
       "        vertical-align: middle;\n",
       "    }\n",
       "\n",
       "    .dataframe tbody tr th {\n",
       "        vertical-align: top;\n",
       "    }\n",
       "\n",
       "    .dataframe thead th {\n",
       "        text-align: right;\n",
       "    }\n",
       "</style>\n",
       "<table border=\"1\" class=\"dataframe\">\n",
       "  <thead>\n",
       "    <tr style=\"text-align: right;\">\n",
       "      <th></th>\n",
       "      <th>High</th>\n",
       "      <th>Low</th>\n",
       "      <th>Open</th>\n",
       "      <th>Close</th>\n",
       "      <th>Volume</th>\n",
       "      <th>Adj Close</th>\n",
       "      <th>high</th>\n",
       "      <th>chg</th>\n",
       "      <th>dd</th>\n",
       "    </tr>\n",
       "    <tr>\n",
       "      <th>Date</th>\n",
       "      <th></th>\n",
       "      <th></th>\n",
       "      <th></th>\n",
       "      <th></th>\n",
       "      <th></th>\n",
       "      <th></th>\n",
       "      <th></th>\n",
       "      <th></th>\n",
       "      <th></th>\n",
       "    </tr>\n",
       "  </thead>\n",
       "  <tbody>\n",
       "    <tr>\n",
       "      <th>2012-01-04</th>\n",
       "      <td>14.810000</td>\n",
       "      <td>14.617143</td>\n",
       "      <td>14.642857</td>\n",
       "      <td>14.765714</td>\n",
       "      <td>260022000.0</td>\n",
       "      <td>12.586557</td>\n",
       "      <td>12.586557</td>\n",
       "      <td>-0.003811</td>\n",
       "      <td>-0.000000</td>\n",
       "    </tr>\n",
       "    <tr>\n",
       "      <th>2012-01-05</th>\n",
       "      <td>14.948214</td>\n",
       "      <td>14.738214</td>\n",
       "      <td>14.819643</td>\n",
       "      <td>14.929643</td>\n",
       "      <td>271269600.0</td>\n",
       "      <td>12.726295</td>\n",
       "      <td>12.726295</td>\n",
       "      <td>0.051532</td>\n",
       "      <td>-0.000000</td>\n",
       "    </tr>\n",
       "    <tr>\n",
       "      <th>2012-01-06</th>\n",
       "      <td>15.098214</td>\n",
       "      <td>14.972143</td>\n",
       "      <td>14.991786</td>\n",
       "      <td>15.085714</td>\n",
       "      <td>318292800.0</td>\n",
       "      <td>12.859330</td>\n",
       "      <td>12.859330</td>\n",
       "      <td>-0.003930</td>\n",
       "      <td>-0.000000</td>\n",
       "    </tr>\n",
       "    <tr>\n",
       "      <th>2012-01-09</th>\n",
       "      <td>15.276786</td>\n",
       "      <td>15.048214</td>\n",
       "      <td>15.196429</td>\n",
       "      <td>15.061786</td>\n",
       "      <td>394024400.0</td>\n",
       "      <td>12.838937</td>\n",
       "      <td>12.859330</td>\n",
       "      <td>-0.000290</td>\n",
       "      <td>-0.001586</td>\n",
       "    </tr>\n",
       "    <tr>\n",
       "      <th>2012-01-10</th>\n",
       "      <td>15.214286</td>\n",
       "      <td>15.053571</td>\n",
       "      <td>15.211071</td>\n",
       "      <td>15.115714</td>\n",
       "      <td>258196400.0</td>\n",
       "      <td>12.884907</td>\n",
       "      <td>12.884907</td>\n",
       "      <td>-0.004689</td>\n",
       "      <td>-0.000000</td>\n",
       "    </tr>\n",
       "  </tbody>\n",
       "</table>\n",
       "</div>"
      ],
      "text/plain": [
       "                 High        Low       Open      Close       Volume  \\\n",
       "Date                                                                  \n",
       "2012-01-04  14.810000  14.617143  14.642857  14.765714  260022000.0   \n",
       "2012-01-05  14.948214  14.738214  14.819643  14.929643  271269600.0   \n",
       "2012-01-06  15.098214  14.972143  14.991786  15.085714  318292800.0   \n",
       "2012-01-09  15.276786  15.048214  15.196429  15.061786  394024400.0   \n",
       "2012-01-10  15.214286  15.053571  15.211071  15.115714  258196400.0   \n",
       "\n",
       "            Adj Close       high       chg        dd  \n",
       "Date                                                  \n",
       "2012-01-04  12.586557  12.586557 -0.003811 -0.000000  \n",
       "2012-01-05  12.726295  12.726295  0.051532 -0.000000  \n",
       "2012-01-06  12.859330  12.859330 -0.003930 -0.000000  \n",
       "2012-01-09  12.838937  12.859330 -0.000290 -0.001586  \n",
       "2012-01-10  12.884907  12.884907 -0.004689 -0.000000  "
      ]
     },
     "execution_count": 112,
     "metadata": {},
     "output_type": "execute_result"
    }
   ],
   "source": [
    "df.head()"
   ]
  },
  {
   "cell_type": "code",
   "execution_count": 117,
   "id": "68cb673a-0c05-4cbd-9c29-0bb7977cbf4e",
   "metadata": {},
   "outputs": [
    {
     "data": {
      "text/html": [
       "<div>\n",
       "<style scoped>\n",
       "    .dataframe tbody tr th:only-of-type {\n",
       "        vertical-align: middle;\n",
       "    }\n",
       "\n",
       "    .dataframe tbody tr th {\n",
       "        vertical-align: top;\n",
       "    }\n",
       "\n",
       "    .dataframe thead th {\n",
       "        text-align: right;\n",
       "    }\n",
       "</style>\n",
       "<table border=\"1\" class=\"dataframe\">\n",
       "  <thead>\n",
       "    <tr style=\"text-align: right;\">\n",
       "      <th></th>\n",
       "      <th>High</th>\n",
       "      <th>Low</th>\n",
       "      <th>Open</th>\n",
       "      <th>Close</th>\n",
       "      <th>Volume</th>\n",
       "      <th>Adj Close</th>\n",
       "      <th>high</th>\n",
       "      <th>chg</th>\n",
       "      <th>dd</th>\n",
       "    </tr>\n",
       "    <tr>\n",
       "      <th>Date</th>\n",
       "      <th></th>\n",
       "      <th></th>\n",
       "      <th></th>\n",
       "      <th></th>\n",
       "      <th></th>\n",
       "      <th></th>\n",
       "      <th></th>\n",
       "      <th></th>\n",
       "      <th></th>\n",
       "    </tr>\n",
       "  </thead>\n",
       "  <tbody>\n",
       "    <tr>\n",
       "      <th>2012-01-04</th>\n",
       "      <td>14.810000</td>\n",
       "      <td>14.617143</td>\n",
       "      <td>14.642857</td>\n",
       "      <td>14.765714</td>\n",
       "      <td>260022000.0</td>\n",
       "      <td>12.586557</td>\n",
       "      <td>12.586557</td>\n",
       "      <td>-0.010635</td>\n",
       "      <td>-0.000000</td>\n",
       "    </tr>\n",
       "    <tr>\n",
       "      <th>2012-01-05</th>\n",
       "      <td>14.948214</td>\n",
       "      <td>14.738214</td>\n",
       "      <td>14.819643</td>\n",
       "      <td>14.929643</td>\n",
       "      <td>271269600.0</td>\n",
       "      <td>12.726295</td>\n",
       "      <td>12.726295</td>\n",
       "      <td>0.003214</td>\n",
       "      <td>-0.000000</td>\n",
       "    </tr>\n",
       "    <tr>\n",
       "      <th>2012-01-06</th>\n",
       "      <td>15.098214</td>\n",
       "      <td>14.972143</td>\n",
       "      <td>14.991786</td>\n",
       "      <td>15.085714</td>\n",
       "      <td>318292800.0</td>\n",
       "      <td>12.859330</td>\n",
       "      <td>12.859330</td>\n",
       "      <td>-0.003145</td>\n",
       "      <td>-0.000000</td>\n",
       "    </tr>\n",
       "    <tr>\n",
       "      <th>2012-01-09</th>\n",
       "      <td>15.276786</td>\n",
       "      <td>15.048214</td>\n",
       "      <td>15.196429</td>\n",
       "      <td>15.061786</td>\n",
       "      <td>394024400.0</td>\n",
       "      <td>12.838937</td>\n",
       "      <td>12.859330</td>\n",
       "      <td>-0.045516</td>\n",
       "      <td>-0.001586</td>\n",
       "    </tr>\n",
       "    <tr>\n",
       "      <th>2012-01-10</th>\n",
       "      <td>15.214286</td>\n",
       "      <td>15.053571</td>\n",
       "      <td>15.211071</td>\n",
       "      <td>15.115714</td>\n",
       "      <td>258196400.0</td>\n",
       "      <td>12.884907</td>\n",
       "      <td>12.884907</td>\n",
       "      <td>0.020094</td>\n",
       "      <td>-0.000000</td>\n",
       "    </tr>\n",
       "  </tbody>\n",
       "</table>\n",
       "</div>"
      ],
      "text/plain": [
       "                 High        Low       Open      Close       Volume  \\\n",
       "Date                                                                  \n",
       "2012-01-04  14.810000  14.617143  14.642857  14.765714  260022000.0   \n",
       "2012-01-05  14.948214  14.738214  14.819643  14.929643  271269600.0   \n",
       "2012-01-06  15.098214  14.972143  14.991786  15.085714  318292800.0   \n",
       "2012-01-09  15.276786  15.048214  15.196429  15.061786  394024400.0   \n",
       "2012-01-10  15.214286  15.053571  15.211071  15.115714  258196400.0   \n",
       "\n",
       "            Adj Close       high       chg        dd  \n",
       "Date                                                  \n",
       "2012-01-04  12.586557  12.586557 -0.010635 -0.000000  \n",
       "2012-01-05  12.726295  12.726295  0.003214 -0.000000  \n",
       "2012-01-06  12.859330  12.859330 -0.003145 -0.000000  \n",
       "2012-01-09  12.838937  12.859330 -0.045516 -0.001586  \n",
       "2012-01-10  12.884907  12.884907  0.020094 -0.000000  "
      ]
     },
     "execution_count": 117,
     "metadata": {},
     "output_type": "execute_result"
    }
   ],
   "source": [
    "df.head()"
   ]
  },
  {
   "cell_type": "code",
   "execution_count": 127,
   "id": "d47c5cb4-cd45-4a1a-a34c-71786d9140b9",
   "metadata": {},
   "outputs": [
    {
     "data": {
      "text/plain": [
       "array([ 0.00431795, -0.0043213 , -0.00046565, ...,  0.03923357,\n",
       "        0.00215422, -0.00604649])"
      ]
     },
     "execution_count": 127,
     "metadata": {},
     "output_type": "execute_result"
    }
   ],
   "source": [
    "np.random.choice(a, len(df))"
   ]
  },
  {
   "cell_type": "code",
   "execution_count": 135,
   "id": "adbf8fb1-061f-4a42-aef2-d960f668b7d0",
   "metadata": {},
   "outputs": [
    {
     "data": {
      "text/html": [
       "<div>\n",
       "<style scoped>\n",
       "    .dataframe tbody tr th:only-of-type {\n",
       "        vertical-align: middle;\n",
       "    }\n",
       "\n",
       "    .dataframe tbody tr th {\n",
       "        vertical-align: top;\n",
       "    }\n",
       "\n",
       "    .dataframe thead th {\n",
       "        text-align: right;\n",
       "    }\n",
       "</style>\n",
       "<table border=\"1\" class=\"dataframe\">\n",
       "  <thead>\n",
       "    <tr style=\"text-align: right;\">\n",
       "      <th></th>\n",
       "      <th>ret</th>\n",
       "      <th>price</th>\n",
       "    </tr>\n",
       "  </thead>\n",
       "  <tbody>\n",
       "    <tr>\n",
       "      <th>2730</th>\n",
       "      <td>-0.024911</td>\n",
       "      <td>516.196438</td>\n",
       "    </tr>\n",
       "    <tr>\n",
       "      <th>2731</th>\n",
       "      <td>0.015042</td>\n",
       "      <td>523.961179</td>\n",
       "    </tr>\n",
       "    <tr>\n",
       "      <th>2732</th>\n",
       "      <td>-0.004539</td>\n",
       "      <td>521.583164</td>\n",
       "    </tr>\n",
       "    <tr>\n",
       "      <th>2733</th>\n",
       "      <td>-0.002011</td>\n",
       "      <td>520.534120</td>\n",
       "    </tr>\n",
       "    <tr>\n",
       "      <th>2734</th>\n",
       "      <td>-0.000088</td>\n",
       "      <td>520.488304</td>\n",
       "    </tr>\n",
       "  </tbody>\n",
       "</table>\n",
       "</div>"
      ],
      "text/plain": [
       "           ret       price\n",
       "2730 -0.024911  516.196438\n",
       "2731  0.015042  523.961179\n",
       "2732 -0.004539  521.583164\n",
       "2733 -0.002011  520.534120\n",
       "2734 -0.000088  520.488304"
      ]
     },
     "execution_count": 135,
     "metadata": {},
     "output_type": "execute_result"
    },
    {
     "data": {
      "image/png": "[encoded data removed]",
      "text/plain": [
       "<Figure size 432x288 with 1 Axes>"
      ]
     },
     "metadata": {
      "needs_background": "light"
     },
     "output_type": "display_data"
    }
   ],
   "source": [
    "import numpy as np\n",
    "a = df.chg.values\n",
    "a = np.random.choice(a, len(df))\n",
    "df2 = pd.DataFrame({\n",
    "    'ret': a,\n",
    "    'price': (1+a).cumprod()*12.587\n",
    "})\n",
    "df2.price.plot()\n",
    "df.reset_index()['Adj Close'].plot()\n",
    "df2.tail()"
   ]
  },
  {
   "cell_type": "code",
   "execution_count": 143,
   "id": "ca5a7ae9-3f87-40e3-ae87-624dc167c2bc",
   "metadata": {},
   "outputs": [
    {
     "data": {
      "text/plain": [
       "count    2735.000000\n",
       "mean        0.001532\n",
       "std         0.018460\n",
       "min        -0.128647\n",
       "25%        -0.006985\n",
       "50%         0.001009\n",
       "75%         0.011275\n",
       "max         0.119808\n",
       "Name: ret, dtype: float64"
      ]
     },
     "execution_count": 143,
     "metadata": {},
     "output_type": "execute_result"
    }
   ],
   "source": [
    "df2.ret.describe()"
   ]
  },
  {
   "cell_type": "code",
   "execution_count": 144,
   "id": "295e6e4c-45a6-4c79-8257-2bf943486708",
   "metadata": {},
   "outputs": [
    {
     "data": {
      "text/plain": [
       "count    2735.000000\n",
       "mean        0.001072\n",
       "std         0.018316\n",
       "min        -0.128647\n",
       "25%        -0.007427\n",
       "50%         0.000811\n",
       "75%         0.010512\n",
       "max         0.119808\n",
       "Name: chg, dtype: float64"
      ]
     },
     "execution_count": 144,
     "metadata": {},
     "output_type": "execute_result"
    }
   ],
   "source": [
    "df.chg.describe()"
   ]
  }
 ],
 "metadata": {
  "kernelspec": {
   "display_name": "Python 3 (ipykernel)",
   "language": "python",
   "name": "python3"
  },
  "language_info": {
   "codemirror_mode": {
    "name": "ipython",
    "version": 3
   },
   "file_extension": ".py",
   "mimetype": "text/x-python",
   "name": "python",
   "nbconvert_exporter": "python",
   "pygments_lexer": "ipython3",
   "version": "3.9.2"
  },
  "nikola": {
   "date": "2022-09-15 19:52:05 UTC",
   "slug": "how-to-make-money",
   "title": "How to make money"
  }
 },
 "nbformat": 4,
 "nbformat_minor": 5
}
