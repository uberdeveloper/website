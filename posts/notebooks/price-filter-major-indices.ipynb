{
 "cells": [
  {
   "cell_type": "markdown",
   "id": "ad4226ce",
   "metadata": {
    "tags": []
   },
   "source": [
    "## Price filter for major indices\n",
    "\n",
    "We already looked at a price filter for the S&P500 index [here](/posts/simple-regime-filter). \n",
    "\n",
    "Let us try it for some other common indices and see how it works on them.\n",
    "\n",
    "List of indices to test\n",
    "\n",
    " * Dow Jones - United States\n",
    " * Russell 2000 - England\n",
    " * Nifty 50 - India\n",
    " * S&P500 - United States\n",
    " * Dax - Germany\n",
    " * Nikkei 225 - Japan\n",
    " * Hangseng - HongKong\n",
    " * Moex - Russia\n",
    " * SSE - China\n",
    " * Asx 200 - Australia\n",
    " * Euronext100 - Europe\n",
    " * Tsx Composite - Canada\n",
    " \n",
    "I have downloaded the data from Yahoo from the start of 2000 and applied the moving average price filter for each of the indices. The `get data` function does all the data stuff. Finally, I group by each stock exchange and the price filter and take the daily mean of the returns."
   ]
  },
  {
   "cell_type": "code",
   "execution_count": 15,
   "id": "2d949ae7-3ebd-42a8-9c14-1f365ba744cb",
   "metadata": {},
   "outputs": [],
   "source": [
    "import pandas as pd\n",
    "import pandas_datareader as web\n",
    "import seaborn as sns\n",
    "sns.set()\n",
    "sns.set(rc={'figure.figsize':(12,6)})"
   ]
  },
  {
   "cell_type": "code",
   "execution_count": 16,
   "id": "99dc471b-a4a8-43ce-934a-1c31b62a39c2",
   "metadata": {
    "tags": [
     "parameters"
    ]
   },
   "outputs": [],
   "source": [
    "# parameters\n",
    "ma = 60\n",
    "\n",
    "# tickers are specified as name versus symbol in yahoo finance\n",
    "tickers = {\n",
    "    'dow': '^DJI',\n",
    "    'russell': '^RUT',\n",
    "    'nifty': '^NSEI',\n",
    "    'snp500': '^GSPC',\n",
    "    'dax': '^GDAXI',\n",
    "    'nikkei': '^N225',\n",
    "    'hangseng': '^HSI',\n",
    "    'moex': 'IMOEX.me',\n",
    "    'sse': '000001.SS',\n",
    "    'asx': '^AXAT',\n",
    "    'euronext': '^N100',\n",
    "    'tsx comp': '^GSPTSE'\n",
    "}"
   ]
  },
  {
   "cell_type": "code",
   "execution_count": 17,
   "id": "38f72aeb-a706-4221-8fdd-d8f161e48261",
   "metadata": {},
   "outputs": [],
   "source": [
    "def get_data(index, name):\n",
    "    \"\"\"\n",
    "    Get the data for the \n",
    "    \"\"\"\n",
    "    df = web.DataReader(index, 'yahoo', start='2000-01-01').rename(columns = lambda x: x.lower())\n",
    "    df = df.sort_index()\n",
    "    df['year'] = df.index.year\n",
    "    df['ret'] = df.close.pct_change()\n",
    "    df['ma_price'] = df.close.rolling(ma).median().shift(1)\n",
    "    df['is_price'] = df.eval('close > ma_price')+0\n",
    "    df['is_price'] = df.is_price.shift(1) # Shifting price since we use the signal only next day\n",
    "    df['name'] = name\n",
    "    return df"
   ]
  },
  {
   "cell_type": "code",
   "execution_count": 18,
   "id": "cff2f4bb-9c60-4b7d-9c1a-eca398c70161",
   "metadata": {},
   "outputs": [],
   "source": [
    "collect = []\n",
    "for k,v in tickers.items():\n",
    "    try:\n",
    "        tmp = get_data(v, name=k)\n",
    "        collect.append(tmp)\n",
    "    except Exception as e:\n",
    "        print(e)\n",
    "df = pd.concat(collect)\n",
    "    "
   ]
  },
  {
   "cell_type": "code",
   "execution_count": 19,
   "id": "631d17c6-abf2-4942-af4d-bb312a7082cc",
   "metadata": {},
   "outputs": [
    {
     "data": {
      "text/plain": [
       "<AxesSubplot:xlabel='name', ylabel='ret'>"
      ]
     },
     "execution_count": 19,
     "metadata": {},
     "output_type": "execute_result"
    },
    {
     "data": {
      "image/png": "[encoded data removed]",
      "text/plain": [
       "<Figure size 864x432 with 1 Axes>"
      ]
     },
     "metadata": {},
     "output_type": "display_data"
    }
   ],
   "source": [
    "mean_returns = df.groupby(['name', 'is_price']).ret.mean().reset_index()\n",
    "sns.barplot(data=mean_returns, x='name', y='ret', hue='is_price')"
   ]
  },
  {
   "cell_type": "markdown",
   "id": "3a56b3d9-2480-4e67-834c-e3ec4799df63",
   "metadata": {},
   "source": [
    "Looks like there is no common pattern among the indices.\n",
    "\n",
    "And all except hangseng and see provide positive returns for both the filters.\n",
    "\n",
    "On a second look, snp500, dow, russell,euronext does well with a filter of 0 while nifty,nikkei,sse,tsx does well with a filter of 1.\n",
    "\n",
    "May be\n",
    " * the american and european markets exhibit different behaviour than the asian counterparts (but TSX is from Canada)\n",
    " * the older exchanges may exhibit a different behaviour than the new one\n",
    " * the timezone effect\n",
    " * or just plain random\n",
    " \n",
    "I cannot come up with any conclusive explanation. This is a good topic to explore further with a whole lot of other indices\n",
    "\n",
    "<div class=\"alert alert-warning\">\n",
    "    There is no substantial edge to practically trade this filter. Also, we have not run any statistical test to validate significance\n",
    "    </div>"
   ]
  },
  {
   "cell_type": "code",
   "execution_count": 20,
   "id": "f300dc4d-13c7-499a-bc78-036a47d0973b",
   "metadata": {},
   "outputs": [
    {
     "data": {
      "text/plain": [
       "name\n",
       "dow        1999-12-31\n",
       "euronext   1999-12-31\n",
       "russell    1999-12-31\n",
       "snp500     1999-12-31\n",
       "tsx comp   1999-12-31\n",
       "dax        2000-01-03\n",
       "hangseng   2000-01-03\n",
       "nikkei     2000-01-04\n",
       "sse        2000-01-04\n",
       "asx        2007-06-15\n",
       "nifty      2007-09-17\n",
       "moex       2013-03-05\n",
       "Name: Date, dtype: datetime64[ns]"
      ]
     },
     "execution_count": 20,
     "metadata": {},
     "output_type": "execute_result"
    }
   ],
   "source": [
    "# Starting date from which data is computed\n",
    "df.reset_index().groupby('name').Date.min().sort_values()"
   ]
  }
 ],
 "metadata": {
  "kernelspec": {
   "display_name": "Python 3 (ipykernel)",
   "language": "python",
   "name": "python3"
  },
  "language_info": {
   "codemirror_mode": {
    "name": "ipython",
    "version": 3
   },
   "file_extension": ".py",
   "mimetype": "text/x-python",
   "name": "python",
   "nbconvert_exporter": "python",
   "pygments_lexer": "ipython3",
   "version": "3.9.2"
  },
  "nikola": {
   "category": "",
   "date": "2021-12-05 13:26:31 UTC",
   "description": "",
   "link": "",
   "slug": "price-filter-major-indices",
   "tags": "",
   "title": "Price filter major indices",
   "type": "text"
  }
 },
 "nbformat": 4,
 "nbformat_minor": 5
}
