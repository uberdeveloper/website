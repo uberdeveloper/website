{
 "cells": [
  {
   "cell_type": "markdown",
   "metadata": {},
   "source": [
    "# Sharpe Ratio - Introduction\n",
    "\n",
    "\n",
    "Sharpe Ratio is the most common metric used to measure risk in finance.\n",
    "\n",
    "The formula is \n",
    "\n",
    "> (return on portfolio - risk free rate)/standard deviation of the excess return on the portfolio\n",
    "\n",
    "There are tons of resources on the internet about sharpe ratio.\n",
    "\n",
    "[This investopedia page](https://www.investopedia.com/terms/s/sharperatio.asp) is a good introduction.\n",
    "\n",
    "In this series of articles, we take a deep dive into the sharpe ratio and its variations and usage.\n",
    "\n",
    "We assume the risk free rate to be zero, then the formula simply becomes mean returns divided by the standard deviation of returns. The following terms are used interchangebly throughout this article\n",
    "\n",
    " * mean returns/average returns/mu\n",
    " * standard deviation of returns/deviation/sigma\n",
    "\n",
    "We would be working on the NSE Nifty 50 index data"
   ]
  },
  {
   "cell_type": "code",
   "execution_count": 1,
   "metadata": {},
   "outputs": [],
   "source": [
    "import numpy as np\n",
    "import pandas as pd\n",
    "import empyrical as ep\n",
    "from typing import Tuple\n",
    "import seaborn as sns\n",
    "sns.set()"
   ]
  },
  {
   "cell_type": "code",
   "execution_count": 2,
   "metadata": {
    "tags": [
     "parameters"
    ]
   },
   "outputs": [],
   "source": [
    "# Parameters \n",
    "# useful when running as a papermill notebook\n",
    "\n",
    "filename:str = '/tmp/nifty.csv'\n",
    "periods:Tuple[str] = ('W','M','Y')"
   ]
  },
  {
   "cell_type": "code",
   "execution_count": 3,
   "metadata": {},
   "outputs": [
    {
     "data": {
      "text/html": [
       "<div>\n",
       "<style scoped>\n",
       "    .dataframe tbody tr th:only-of-type {\n",
       "        vertical-align: middle;\n",
       "    }\n",
       "\n",
       "    .dataframe tbody tr th {\n",
       "        vertical-align: top;\n",
       "    }\n",
       "\n",
       "    .dataframe thead th {\n",
       "        text-align: right;\n",
       "    }\n",
       "</style>\n",
       "<table border=\"1\" class=\"dataframe\">\n",
       "  <thead>\n",
       "    <tr style=\"text-align: right;\">\n",
       "      <th></th>\n",
       "      <th>open</th>\n",
       "      <th>high</th>\n",
       "      <th>low</th>\n",
       "      <th>close</th>\n",
       "      <th>daily_return</th>\n",
       "    </tr>\n",
       "    <tr>\n",
       "      <th>date</th>\n",
       "      <th></th>\n",
       "      <th></th>\n",
       "      <th></th>\n",
       "      <th></th>\n",
       "      <th></th>\n",
       "    </tr>\n",
       "  </thead>\n",
       "  <tbody>\n",
       "    <tr>\n",
       "      <th>2000-01-03</th>\n",
       "      <td>1482.15</td>\n",
       "      <td>1592.90</td>\n",
       "      <td>1482.15</td>\n",
       "      <td>1592.2</td>\n",
       "      <td>NaN</td>\n",
       "    </tr>\n",
       "    <tr>\n",
       "      <th>2000-01-04</th>\n",
       "      <td>1594.40</td>\n",
       "      <td>1641.95</td>\n",
       "      <td>1594.40</td>\n",
       "      <td>1638.7</td>\n",
       "      <td>0.029205</td>\n",
       "    </tr>\n",
       "    <tr>\n",
       "      <th>2000-01-05</th>\n",
       "      <td>1634.55</td>\n",
       "      <td>1635.50</td>\n",
       "      <td>1555.05</td>\n",
       "      <td>1595.8</td>\n",
       "      <td>-0.026179</td>\n",
       "    </tr>\n",
       "    <tr>\n",
       "      <th>2000-01-06</th>\n",
       "      <td>1595.80</td>\n",
       "      <td>1639.00</td>\n",
       "      <td>1595.80</td>\n",
       "      <td>1617.6</td>\n",
       "      <td>0.013661</td>\n",
       "    </tr>\n",
       "    <tr>\n",
       "      <th>2000-01-07</th>\n",
       "      <td>1616.60</td>\n",
       "      <td>1628.25</td>\n",
       "      <td>1597.20</td>\n",
       "      <td>1613.3</td>\n",
       "      <td>-0.002658</td>\n",
       "    </tr>\n",
       "  </tbody>\n",
       "</table>\n",
       "</div>"
      ],
      "text/plain": [
       "               open     high      low   close  daily_return\n",
       "date                                                       \n",
       "2000-01-03  1482.15  1592.90  1482.15  1592.2           NaN\n",
       "2000-01-04  1594.40  1641.95  1594.40  1638.7      0.029205\n",
       "2000-01-05  1634.55  1635.50  1555.05  1595.8     -0.026179\n",
       "2000-01-06  1595.80  1639.00  1595.80  1617.6      0.013661\n",
       "2000-01-07  1616.60  1628.25  1597.20  1613.3     -0.002658"
      ]
     },
     "execution_count": 3,
     "metadata": {},
     "output_type": "execute_result"
    }
   ],
   "source": [
    "df = pd.read_csv(filename, index_col=['date'], parse_dates=['date'])\n",
    "df['daily_return'] = df.close.pct_change()\n",
    "df.head()"
   ]
  },
  {
   "cell_type": "code",
   "execution_count": 4,
   "metadata": {},
   "outputs": [
    {
     "name": "stdout",
     "output_type": "stream",
     "text": [
      "Daily mean return = 0.0005\n",
      "Deviation of daily returns = 0.0144\n",
      "Sharpe ratio = 0.0381\n"
     ]
    }
   ],
   "source": [
    "mu,sigma = df.daily_return.mean(), df.daily_return.std()\n",
    "print(f\"Daily mean return = {mu :.4f}\")\n",
    "print(f\"Deviation of daily returns = {sigma :.4f}\")\n",
    "print(f\"Sharpe ratio = {mu/sigma :.4f}\")\n"
   ]
  },
  {
   "cell_type": "markdown",
   "metadata": {},
   "source": [
    "## Sharpe ratio - converting to various periods\n",
    "\n",
    "The sharpe ratio calculated here is based on daily return. To calculate it for other periods, multiply this by the square root of the period.\n",
    "\n",
    "`sharpe ratio * √n`\n",
    "\n",
    "To get the weekly sharpe ratio, multiply by √5 since there are 5 trading days in a week, √20 for a month and so on. Most of the literature and news display the annualized sharpe ratio, sharpe ratio per annum\n",
    "\n",
    "<!-- TEASER_END -->"
   ]
  },
  {
   "cell_type": "code",
   "execution_count": 5,
   "metadata": {},
   "outputs": [
    {
     "name": "stdout",
     "output_type": "stream",
     "text": [
      "Sharpe ratio for the period weekly is 0.0851\n",
      "Sharpe ratio for the period monthly is 0.1703\n",
      "Sharpe ratio for the period yearly is 0.6044\n",
      "Sharpe ratio annualized calculated using empyrical is 0.6044\n"
     ]
    }
   ],
   "source": [
    "def sharpe_period(sr:float, n:int)->float:\n",
    "    sr_p = sr*np.sqrt(n)\n",
    "    return sr_p\n",
    "\n",
    "for p,n in zip(('weekly','monthly','yearly'),(5,20,252)):\n",
    "    print(f\"Sharpe ratio for the period {p} is {sharpe_period(mu/sigma, n):.4f}\")\n",
    "    \n",
    "print(f\"Sharpe ratio annualized calculated using empyrical is {ep.sharpe_ratio(df.daily_return):.4f}\")"
   ]
  },
  {
   "cell_type": "markdown",
   "metadata": {},
   "source": [
    "### Calculate sharpe ratio by resampling"
   ]
  },
  {
   "cell_type": "code",
   "execution_count": 6,
   "metadata": {},
   "outputs": [
    {
     "name": "stdout",
     "output_type": "stream",
     "text": [
      "Sharpe ratio for the period weekly is 0.0852\n",
      "Sharpe ratio for the period monthly is 0.1752\n",
      "Sharpe ratio for the period yearly is 0.5821\n"
     ]
    }
   ],
   "source": [
    "def resampled_sharpe(dataframe:pd.DataFrame, freq:str)->float:\n",
    "    resampled = dataframe.resample(freq).close.last().pct_change()\n",
    "    sharpe = resampled.mean()/resampled.std()\n",
    "    return sharpe\n",
    "\n",
    "for p,n in zip(('weekly','monthly','yearly'),periods):\n",
    "    print(f\"Sharpe ratio for the period {p} is {resampled_sharpe(df, n):.4f}\")\n"
   ]
  },
  {
   "cell_type": "markdown",
   "metadata": {},
   "source": [
    "The sharpe ratio by both the methods match though not exact and bigger the timeframe, the bigger is the difference between the methods. This may be due to the fact that the daily returns have more data compared to the resampled series which has got less data when we increase the time period.\n",
    "\n",
    "The sharpe ratio calculated thus far is the *ex-post* sharpe ratio since it is calculated after the event has occured. In practice, we use this ratio on a *ex-ante* basis, as a predictor for the future. *ex-ante* is the the expected sharpe ratio while the *ex-post* is the actual/realised sharpe ratio\n",
    "\n",
    "This excellent [article](https://corporatefinanceinstitute.com/resources/knowledge/trading-investing/ex-ante-vs-ex-post/) shows how ex-post and ex-ante are calculated in general"
   ]
  },
  {
   "cell_type": "markdown",
   "metadata": {},
   "source": [
    "## A note on the risk free rate\n",
    "\n",
    "All the calculations are done assuming 0 is the risk-free rate. Let us see a simulation with different risk free rates\n"
   ]
  },
  {
   "cell_type": "code",
   "execution_count": 7,
   "metadata": {},
   "outputs": [
    {
     "data": {
      "image/png": "[encoded data removed]",
      "text/plain": [
       "<Figure size 432x288 with 1 Axes>"
      ]
     },
     "metadata": {},
     "output_type": "display_data"
    }
   ],
   "source": [
    "rates = np.linspace(0,0.1,50)\n",
    "sharpe_ratios = {}\n",
    "for r in rates:\n",
    "    sharpe_ratios[r] = ep.sharpe_ratio(df.daily_return,risk_free=r/365)\n",
    "ax = pd.Series(sharpe_ratios).plot(title='Sharpe ratio versus risk free rate')\n",
    "ax.set_xlabel('Sharpe Ratio')\n",
    "ax.set_ylabel('Risk free rate');\n"
   ]
  }
 ],
 "metadata": {
  "kernelspec": {
   "display_name": "Python 3 (ipykernel)",
   "language": "python",
   "name": "python3"
  },
  "language_info": {
   "codemirror_mode": {
    "name": "ipython",
    "version": 3
   },
   "file_extension": ".py",
   "mimetype": "text/x-python",
   "name": "python",
   "nbconvert_exporter": "python",
   "pygments_lexer": "ipython3",
   "version": "3.9.2"
  },
  "nikola": {
   "category": "risk management",
   "date": "2021-11-04 06:52:05 UTC",
   "slug": "sharpe-ratio",
   "tags": "sharpe,risk",
   "title": "Sharpe ratio"
  }
 },
 "nbformat": 4,
 "nbformat_minor": 4
}
